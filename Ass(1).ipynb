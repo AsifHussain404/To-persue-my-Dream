{
 "cells": [
  {
   "cell_type": "markdown",
   "id": "4a945269-d792-4a6a-b916-aac47fc8ae1c",
   "metadata": {},
   "source": [
    "### Exercise 2 - Create a markdown cell with the title of the notebook.\n",
    "\n",
    "# Data Science Tools and Ecosystem"
   ]
  },
  {
   "cell_type": "markdown",
   "id": "fa5b455b-e0fd-4020-9cd7-0b8fd1c4a244",
   "metadata": {},
   "source": [
    "### Exercise 3 - Create a markdown cell for an introduction.\n",
    "\n",
    "## Introduction\n",
    "\n",
    "This notebook provides an overview of the Data Science Tools and Ecosystem. It includes information about programming languages, libraries, and tools used in data science, along with some examples of arithmetic operations in Python."
   ]
  },
  {
   "cell_type": "markdown",
   "id": "a71d12f3-050d-416d-875e-eac6c45fa327",
   "metadata": {},
   "source": [
    "### Exercise 4 - Create a markdown cell to list data science languages.\n",
    "\n",
    "## Data Science Languages\n",
    "\n",
    "Some popular programming languages used in data science include:\n",
    "\n",
    "- Python\n",
    "- R\n",
    "- SQL\n",
    "- Julia\n",
    "- Scala\n"
   ]
  },
  {
   "cell_type": "markdown",
   "id": "a1ee632a-54ac-417d-ab13-f2f50d100c80",
   "metadata": {},
   "source": [
    "### Exercise 5 - Create a markdown cell to list data science libraries.\n",
    "\n",
    "## Data Science Libraries\n",
    "\n",
    "Some commonly used libraries for data science are:\n",
    "\n",
    "- NumPy\n",
    "- Pandas\n",
    "- Matplotlib\n",
    "- Scikit-learn\n",
    "- TensorFlow\n",
    "- Keras\n",
    "- PyTorch\n"
   ]
  },
  {
   "cell_type": "markdown",
   "id": "cb717c58-ea5e-461d-94a6-4a034adbb182",
   "metadata": {},
   "source": [
    "### Exercise 6 - Create a markdown cell with a table of Data Science tools.\n",
    "\n",
    "## Data Science Tools\n",
    "\n",
    "| Tool | Description |\n",
    "|------|------------|\n",
    "| Jupyter Notebook | Interactive computing environment |\n",
    "| RStudio | Integrated Development Environment for R |\n",
    "| Apache Spark | Cluster computing system |\n",
    "| TensorFlow | Machine learning framework |\n",
    "| Tableau | Data visualization tool |"
   ]
  },
  {
   "cell_type": "markdown",
   "id": "9c40f760-c787-4e65-87a4-c92ffad12693",
   "metadata": {},
   "source": [
    "### Exercise 7 - Create a markdown cell introducing arithmetic expression examples.\n",
    "\n",
    "## Arithmetic Expressions Examples\n",
    "\n",
    "Below are examples of arithmetic expressions in Python.\n"
   ]
  },
  {
   "cell_type": "code",
   "execution_count": 4,
   "id": "708fa879-f881-4991-acbb-4130ed5712d3",
   "metadata": {},
   "outputs": [
    {
     "name": "stdout",
     "output_type": "stream",
     "text": [
      "The result of (5 * 3) + 2 is: 17\n"
     ]
    }
   ],
   "source": [
    "### Exercise 8 - Create a code cell to multiply and add numbers.\n",
    "# Multiplication and Addition\n",
    "result = (5 * 3) + 2\n",
    "print(\"The result of (5 * 3) + 2 is:\", result)"
   ]
  },
  {
   "cell_type": "code",
   "execution_count": 5,
   "id": "e77ff7be-bcad-4d46-9014-7d2a8d63d09d",
   "metadata": {},
   "outputs": [
    {
     "name": "stdout",
     "output_type": "stream",
     "text": [
      "150 minutes is equal to 2.5 hours\n"
     ]
    }
   ],
   "source": [
    "### Exercise 9 - Create a code cell to convert minutes to hours.\n",
    "# Convert minutes to hours\n",
    "minutes = 150\n",
    "hours = minutes / 60\n",
    "print(minutes, \"minutes is equal to\", hours, \"hours\")"
   ]
  },
  {
   "cell_type": "markdown",
   "id": "6e34ea6b-9dde-4ebc-9d9a-70856628b9a8",
   "metadata": {},
   "source": [
    "### Exercise 10 - Insert a markdown cell to list Objectives.\n",
    "\n",
    "## Objectives\n",
    "\n",
    "- List popular languages for Data Science\n",
    "- Identify commonly used libraries in Data Science\n",
    "- Demonstrate arithmetic expressions in Python\n",
    "- Convert minutes to hours using Python code\n",
    "- Share the notebook publicly on GitHub"
   ]
  },
  {
   "cell_type": "markdown",
   "id": "3e596f20-0566-4d1e-a15f-d33da869479a",
   "metadata": {},
   "source": [
    "### Exercise 11 - Create a markdown cell to indicate the Author’s name.\n",
    "\n",
    "## Author\n",
    "\n",
    "**My Name is Asif Hussain**"
   ]
  },
  {
   "cell_type": "code",
   "execution_count": null,
   "id": "e76ea641-c80a-4e8e-9af1-df2acc8bbc73",
   "metadata": {},
   "outputs": [],
   "source": []
  }
 ],
 "metadata": {
  "kernelspec": {
   "display_name": "Python 3 (ipykernel)",
   "language": "python",
   "name": "python3"
  },
  "language_info": {
   "codemirror_mode": {
    "name": "ipython",
    "version": 3
   },
   "file_extension": ".py",
   "mimetype": "text/x-python",
   "name": "python",
   "nbconvert_exporter": "python",
   "pygments_lexer": "ipython3",
   "version": "3.12.7"
  }
 },
 "nbformat": 4,
 "nbformat_minor": 5
}
