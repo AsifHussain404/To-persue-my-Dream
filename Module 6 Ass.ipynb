{
 "cells": [
  {
   "cell_type": "markdown",
   "id": "8c912be7-497d-4205-9013-10af377c5a44",
   "metadata": {},
   "source": [
    "## Exercise 2"
   ]
  },
  {
   "cell_type": "markdown",
   "id": "0dccd0b6-9017-40ed-90c2-2b6783662850",
   "metadata": {},
   "source": [
    "## Data Science Note book"
   ]
  },
  {
   "cell_type": "markdown",
   "id": "f1a85b54-8c4e-4350-bcb3-fc0f86fb4b35",
   "metadata": {},
   "source": [
    "## Exercise 3"
   ]
  },
  {
   "cell_type": "markdown",
   "id": "82cd1473-be15-496e-afc3-51fecec38e5b",
   "metadata": {},
   "source": [
    "## This is Data Science Notebook.Now we just introduce the basic of Python"
   ]
  },
  {
   "cell_type": "code",
   "execution_count": null,
   "id": "25329663-abe2-45e1-ac73-ba694c9cb5f7",
   "metadata": {},
   "outputs": [],
   "source": [
    "## Data Science Languages\n",
    "- Python\n",
    "- R\n",
    "- SQL\n",
    "- Julia\n",
    "- Scala"
   ]
  },
  {
   "cell_type": "code",
   "execution_count": null,
   "id": "d1f10a94-ebbe-483a-a672-09a821cb4554",
   "metadata": {},
   "outputs": [],
   "source": [
    "## Data Science Libraries\n",
    "- NumPy\n",
    "- Pandas\n",
    "- Matplotlib\n",
    "- Scikit-learn\n",
    "- TensorFlow\n",
    "- PyTorch\n"
   ]
  },
  {
   "cell_type": "code",
   "execution_count": null,
   "id": "74eb27db-930e-41d3-86f6-fea3067636ff",
   "metadata": {},
   "outputs": [],
   "source": [
    "## Data Science Tools\n",
    "\n",
    "| Tool Name        | Purpose                  |\n",
    "|-----------------|-------------------------|\n",
    "| Jupyter Notebook | Interactive Computing  |\n",
    "| Apache Spark    | Big Data Processing     |\n",
    "| Tableau        | Data Visualization      |\n",
    "| TensorFlow     | Machine Learning        |\n",
    "| Power BI       | Business Intelligence   |\n"
   ]
  },
  {
   "cell_type": "code",
   "execution_count": null,
   "id": "2428fed7-b422-4e00-b5d5-ac17da79c599",
   "metadata": {},
   "outputs": [],
   "source": [
    "## Arithmetic Expressions\n",
    "Some examples of arithmetic expressions:\n",
    "- Addition: `5 + 3 = 8`\n",
    "- Multiplication: `6 * 7 = 42`\n",
    "- Division: `10 / 2 = 5`\n",
    "- Exponentiation: `2 ** 3 = 8`"
   ]
  },
  {
   "cell_type": "code",
   "execution_count": 5,
   "id": "04ea025f-8b01-4770-9ce2-189094f70d60",
   "metadata": {},
   "outputs": [
    {
     "name": "stdout",
     "output_type": "stream",
     "text": [
      "Sum: 8\n",
      "Product: 15\n"
     ]
    }
   ],
   "source": [
    "# Multiplication and Addition\n",
    "a = 5\n",
    "b = 3\n",
    "sum_result = a + b\n",
    "product_result = a * b\n",
    "print(\"Sum:\", sum_result)\n",
    "print(\"Product:\", product_result)\n"
   ]
  },
  {
   "cell_type": "code",
   "execution_count": 6,
   "id": "053f12d9-e050-4850-9a81-cab1ec67a9e3",
   "metadata": {},
   "outputs": [
    {
     "name": "stdout",
     "output_type": "stream",
     "text": [
      "120 minutes is equal to 2.0 hours\n"
     ]
    }
   ],
   "source": [
    "# Convert minutes to hours\n",
    "minutes = 120\n",
    "hours = minutes / 60\n",
    "print(f\"{minutes} minutes is equal to {hours} hours\")\n"
   ]
  },
  {
   "cell_type": "code",
   "execution_count": null,
   "id": "389589bb-5abb-4292-9e93-a28b0337a8d3",
   "metadata": {},
   "outputs": [],
   "source": [
    "## Objectives\n",
    "- Understand key data science concepts.\n",
    "- Learn about programming languages used in data science.\n",
    "- Explore data science libraries and tools.\n",
    "- Perform basic arithmetic operations.\n"
   ]
  },
  {
   "cell_type": "code",
   "execution_count": null,
   "id": "f2acca97-4cf2-46de-8070-0e9e4902f753",
   "metadata": {},
   "outputs": [],
   "source": [
    "## Author\n",
    "** Asif Hussain**\n"
   ]
  },
  {
   "cell_type": "code",
   "execution_count": null,
   "id": "5a1a691f-c698-4f93-8fec-46954ef4a0c8",
   "metadata": {},
   "outputs": [],
   "source": []
  }
 ],
 "metadata": {
  "kernelspec": {
   "display_name": "Python 3 (ipykernel)",
   "language": "python",
   "name": "python3"
  },
  "language_info": {
   "codemirror_mode": {
    "name": "ipython",
    "version": 3
   },
   "file_extension": ".py",
   "mimetype": "text/x-python",
   "name": "python",
   "nbconvert_exporter": "python",
   "pygments_lexer": "ipython3",
   "version": "3.12.7"
  }
 },
 "nbformat": 4,
 "nbformat_minor": 5
}
